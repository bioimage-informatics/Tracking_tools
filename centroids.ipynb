{
 "cells": [
  {
   "cell_type": "code",
   "execution_count": null,
   "id": "86e40ada",
   "metadata": {},
   "outputs": [],
   "source": [
    "# 4D画像にする関数\n",
    "\n",
    "def to4D(image):\n",
    "    if image.ndim==3:\n",
    "        image = image[np.newaxis,:,:]\n",
    "    elif image.ndim==2:\n",
    "        image = image[np.newaxis,np.newaxis,:,:]\n",
    "    return image"
   ]
  },
  {
   "cell_type": "code",
   "execution_count": null,
   "id": "276e8a78",
   "metadata": {},
   "outputs": [],
   "source": [
    "# 4Dセグメンテーション画像から重心座標\n",
    "\n",
    "def segmentation2centroid(seg, kernel_sz, image_size):\n",
    "    # 4D画像にする\n",
    "    seg = to4D(seg)\n",
    "    centroids = pd.DataFrame(index=[], columns=['X', 'Y', 'Z', 'T'], dtype=np.float32)\n",
    "    seg_size = seg.shape\n",
    "    for t in range(seg_size[0]):\n",
    "        for z in range(seg_size[1]):\n",
    "            this_img = seg[t,z,:,:]\n",
    "            print(t,z)\n",
    "#             print(this_img)\n",
    "            # 重心\n",
    "            _, _, _, cent = cv2.connectedComponentsWithStats(np.uint8(this_img)) # 開始点の x 座標、y 座標、幅、高さ\n",
    "#             print(cent)\n",
    "            this_centroids = pd.DataFrame(cent, columns=['X', 'Y'])\n",
    "            zz = np.multiply(np.ones([np.shape(this_centroids)[0],1]), z)\n",
    "            tt = np.multiply(np.ones([np.shape(this_centroids)[0],1]), t)\n",
    "            this_centroids['T'] = tt\n",
    "            this_centroids['Z'] = zz\n",
    "            centroids = pd.concat([centroids, this_centroids])\n",
    "            \n",
    "    return centroids"
   ]
  }
 ],
 "metadata": {
  "kernelspec": {
   "display_name": "dl_tools",
   "language": "python",
   "name": "dl_tools"
  },
  "language_info": {
   "codemirror_mode": {
    "name": "ipython",
    "version": 3
   },
   "file_extension": ".py",
   "mimetype": "text/x-python",
   "name": "python",
   "nbconvert_exporter": "python",
   "pygments_lexer": "ipython3",
   "version": "3.8.13"
  }
 },
 "nbformat": 4,
 "nbformat_minor": 5
}
